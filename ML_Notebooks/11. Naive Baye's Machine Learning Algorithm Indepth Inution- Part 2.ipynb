{
 "cells": [
  {
   "cell_type": "markdown",
   "id": "911a4a34",
   "metadata": {},
   "source": [
    "# 11. Naive Baye's Machine Learning Algorithm Indepth Inution- Part 2"
   ]
  }
 ],
 "metadata": {},
 "nbformat": 4,
 "nbformat_minor": 5
}
