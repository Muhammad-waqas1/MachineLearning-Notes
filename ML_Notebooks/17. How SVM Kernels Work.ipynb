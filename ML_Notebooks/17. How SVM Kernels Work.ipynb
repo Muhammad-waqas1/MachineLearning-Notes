{
 "cells": [
  {
   "cell_type": "markdown",
   "id": "1aaed862",
   "metadata": {},
   "source": [
    "# 17. How SVM Kernels Work"
   ]
  }
 ],
 "metadata": {},
 "nbformat": 4,
 "nbformat_minor": 5
}
