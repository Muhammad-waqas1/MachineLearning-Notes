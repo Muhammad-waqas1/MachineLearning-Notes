{
 "cells": [
  {
   "cell_type": "markdown",
   "id": "49006bf3",
   "metadata": {},
   "source": [
    "# 12. K Nearest Neighbour Indepth Intuition- Classification And Regression"
   ]
  }
 ],
 "metadata": {},
 "nbformat": 4,
 "nbformat_minor": 5
}
