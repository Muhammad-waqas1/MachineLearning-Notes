{
 "cells": [
  {
   "cell_type": "markdown",
   "id": "78761a27",
   "metadata": {},
   "source": [
    "# 19. Part 2- Post Prunning And Pre Prunning In Decision Tree Classifier"
   ]
  }
 ],
 "metadata": {},
 "nbformat": 4,
 "nbformat_minor": 5
}
