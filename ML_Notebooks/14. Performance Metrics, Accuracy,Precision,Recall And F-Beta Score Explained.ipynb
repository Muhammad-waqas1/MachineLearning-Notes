{
 "cells": [
  {
   "cell_type": "markdown",
   "id": "6e16664b",
   "metadata": {},
   "source": [
    "# 14. Performance Metrics, Accuracy,Precision,Recall And F-Beta Score Explained"
   ]
  }
 ],
 "metadata": {},
 "nbformat": 4,
 "nbformat_minor": 5
}
