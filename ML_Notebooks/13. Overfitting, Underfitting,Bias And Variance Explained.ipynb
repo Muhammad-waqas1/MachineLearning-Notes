{
 "cells": [
  {
   "cell_type": "markdown",
   "id": "d2af3f3a",
   "metadata": {},
   "source": [
    "# 13. Overfitting, Underfitting,Bias And Variance Explained"
   ]
  }
 ],
 "metadata": {},
 "nbformat": 4,
 "nbformat_minor": 5
}
