{
 "cells": [
  {
   "cell_type": "markdown",
   "id": "43aea766",
   "metadata": {},
   "source": [
    "# 8. Logistic Regression Indepth Maths Intuition"
   ]
  }
 ],
 "metadata": {
  "kernelspec": {
   "display_name": "venv",
   "language": "python",
   "name": "python3"
  },
  "language_info": {
   "name": "python",
   "version": "3.11.3"
  }
 },
 "nbformat": 4,
 "nbformat_minor": 5
}
