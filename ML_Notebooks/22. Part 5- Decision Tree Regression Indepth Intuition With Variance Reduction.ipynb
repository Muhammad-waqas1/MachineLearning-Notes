{
 "cells": [
  {
   "cell_type": "markdown",
   "id": "05b62e06",
   "metadata": {},
   "source": [
    "# 22. Part 5- Decision Tree Regression Indepth Intuition With Variance Reduction"
   ]
  }
 ],
 "metadata": {},
 "nbformat": 4,
 "nbformat_minor": 5
}
