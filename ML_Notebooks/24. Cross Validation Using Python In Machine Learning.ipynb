{
 "cells": [
  {
   "cell_type": "markdown",
   "id": "7676fae4",
   "metadata": {},
   "source": [
    "# 24. Cross Validation Using Python In Machine Learning"
   ]
  }
 ],
 "metadata": {},
 "nbformat": 4,
 "nbformat_minor": 5
}
