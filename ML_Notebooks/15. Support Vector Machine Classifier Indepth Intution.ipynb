{
 "cells": [
  {
   "cell_type": "markdown",
   "id": "53774b9d",
   "metadata": {},
   "source": [
    "# 15. Support Vector Machine Classifier Indepth Intution"
   ]
  }
 ],
 "metadata": {},
 "nbformat": 4,
 "nbformat_minor": 5
}
