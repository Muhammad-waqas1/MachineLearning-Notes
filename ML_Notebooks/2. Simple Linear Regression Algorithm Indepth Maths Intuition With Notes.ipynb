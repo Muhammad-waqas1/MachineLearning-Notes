{
 "cells": [
  {
   "cell_type": "markdown",
   "id": "68d59ebc",
   "metadata": {},
   "source": [
    "# 2. Simple Linear Regression Algorithm Indepth Maths Intuition With Notes"
   ]
  }
 ],
 "metadata": {},
 "nbformat": 4,
 "nbformat_minor": 5
}
