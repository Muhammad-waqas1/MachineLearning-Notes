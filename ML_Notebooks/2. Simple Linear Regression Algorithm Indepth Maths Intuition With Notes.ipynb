{
 "cells": [
  {
   "cell_type": "markdown",
   "id": "68d59ebc",
   "metadata": {},
   "source": [
    "# 2. Simple Linear Regression Algorithm Indepth Maths Intuition"
   ]
  },
  {
   "cell_type": "markdown",
   "id": "ddc4f0b2",
   "metadata": {},
   "source": []
  }
 ],
 "metadata": {
  "language_info": {
   "name": "python"
  }
 },
 "nbformat": 4,
 "nbformat_minor": 5
}
