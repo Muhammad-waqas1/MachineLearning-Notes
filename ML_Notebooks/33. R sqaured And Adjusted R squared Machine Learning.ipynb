{
 "cells": [
  {
   "cell_type": "markdown",
   "id": "27392564",
   "metadata": {},
   "source": [
    "# 33. R sqaured And Adjusted R squared Machine Learning"
   ]
  }
 ],
 "metadata": {},
 "nbformat": 4,
 "nbformat_minor": 5
}
