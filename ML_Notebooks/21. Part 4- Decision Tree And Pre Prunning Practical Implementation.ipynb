{
 "cells": [
  {
   "cell_type": "markdown",
   "id": "c46469aa",
   "metadata": {},
   "source": [
    "# 21. Part 4- Decision Tree And Pre Prunning Practical Implementation"
   ]
  }
 ],
 "metadata": {},
 "nbformat": 4,
 "nbformat_minor": 5
}
