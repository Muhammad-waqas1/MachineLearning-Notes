{
 "cells": [
  {
   "cell_type": "markdown",
   "id": "192d0a5d",
   "metadata": {},
   "source": [
    "# 38. Complete Anomaly Detection Machine Learning Algorithms- Isolation Forest,DBSCAN,Local Factor Outlier"
   ]
  }
 ],
 "metadata": {},
 "nbformat": 4,
 "nbformat_minor": 5
}
