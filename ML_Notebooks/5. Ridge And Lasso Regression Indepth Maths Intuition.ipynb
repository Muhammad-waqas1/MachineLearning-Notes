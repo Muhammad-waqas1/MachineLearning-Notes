{
 "cells": [
  {
   "cell_type": "markdown",
   "id": "8332530a",
   "metadata": {},
   "source": [
    "# 5. Ridge And Lasso Regression Indepth Maths Intuition"
   ]
  }
 ],
 "metadata": {},
 "nbformat": 4,
 "nbformat_minor": 5
}
