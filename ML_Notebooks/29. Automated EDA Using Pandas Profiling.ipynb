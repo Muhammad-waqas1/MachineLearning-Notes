{
 "cells": [
  {
   "cell_type": "markdown",
   "id": "b0c6e19e",
   "metadata": {},
   "source": [
    "# 29. Automated EDA Using Pandas Profiling"
   ]
  }
 ],
 "metadata": {},
 "nbformat": 4,
 "nbformat_minor": 5
}
