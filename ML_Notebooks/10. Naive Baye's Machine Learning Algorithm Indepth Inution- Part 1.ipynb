{
 "cells": [
  {
   "cell_type": "markdown",
   "id": "486c9267",
   "metadata": {},
   "source": [
    "# 10. Naive Baye's Machine Learning Algorithm Indepth Inution- Part 1"
   ]
  }
 ],
 "metadata": {},
 "nbformat": 4,
 "nbformat_minor": 5
}
