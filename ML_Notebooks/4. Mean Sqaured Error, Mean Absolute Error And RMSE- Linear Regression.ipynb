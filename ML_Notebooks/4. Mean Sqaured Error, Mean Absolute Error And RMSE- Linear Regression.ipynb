{
 "cells": [
  {
   "cell_type": "markdown",
   "id": "40464251",
   "metadata": {},
   "source": [
    "# 4. Mean Sqaured Error, Mean Absolute Error And RMSE- Linear Regression"
   ]
  },
  {
   "cell_type": "markdown",
   "id": "7cb99534",
   "metadata": {},
   "source": []
  }
 ],
 "metadata": {
  "language_info": {
   "name": "python"
  }
 },
 "nbformat": 4,
 "nbformat_minor": 5
}
