{
 "cells": [
  {
   "cell_type": "markdown",
   "id": "40464251",
   "metadata": {},
   "source": [
    "# 4. Mean Sqaured Error, Mean Absolute Error And RMSE- Linear Regression"
   ]
  }
 ],
 "metadata": {},
 "nbformat": 4,
 "nbformat_minor": 5
}
