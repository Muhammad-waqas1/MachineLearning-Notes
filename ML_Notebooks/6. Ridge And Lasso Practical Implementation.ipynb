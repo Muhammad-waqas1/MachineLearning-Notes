{
 "cells": [
  {
   "cell_type": "markdown",
   "id": "fa469431",
   "metadata": {},
   "source": [
    "# 6. Ridge And Lasso Practical Implementation"
   ]
  }
 ],
 "metadata": {},
 "nbformat": 4,
 "nbformat_minor": 5
}
