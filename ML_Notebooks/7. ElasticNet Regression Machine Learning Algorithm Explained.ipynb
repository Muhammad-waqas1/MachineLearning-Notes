{
 "cells": [
  {
   "cell_type": "markdown",
   "id": "772b7f0e",
   "metadata": {},
   "source": [
    "# 7. ElasticNet Regression Machine Learning Algorithm Explained"
   ]
  }
 ],
 "metadata": {},
 "nbformat": 4,
 "nbformat_minor": 5
}
